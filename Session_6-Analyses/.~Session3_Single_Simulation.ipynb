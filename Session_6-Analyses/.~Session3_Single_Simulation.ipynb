{
 "cells": [
  {
   "cell_type": "markdown",
   "id": "a266df91-c61c-431e-b4a0-4506cf452f94",
   "metadata": {},
   "source": [
    "# **Setting up and exploring a simple TVB Simulation**\n",
    "\n",
    "\n"
   ]
  },
  {
   "cell_type": "markdown",
   "id": "c33d54e1-fef6-4517-96d5-495f091d4aee",
   "metadata": {},
   "source": [
    "### *1. Load in the required packages for this notebook*"
   ]
  },
  {
   "cell_type": "code",
   "execution_count": 8,
   "id": "15a82c7e-350a-42f2-8310-842312aa591c",
   "metadata": {},
   "outputs": [
    {
     "name": "stdout",
     "output_type": "stream",
     "text": [
      "Populating the interactive namespace from numpy and matplotlib\n"
     ]
    }
   ],
   "source": [
    "%pylab inline\n",
    "import sys, os, time\n",
    "import numpy as np\n",
    "import showcase1_ageing as utils\n",
    "from tvb.simulator.lab import *\n",
    "from tvb.simulator.backend.nb_mpr import NbMPRBackend\n",
    "import matplotlib.pyplot as plt\n",
    "import pandas as pd\n",
    "import seaborn as sns\n",
    "from scipy.signal import savgol_filter"
   ]
  },
  {
   "cell_type": "markdown",
   "id": "8fbbc48e-3ff8-4037-9bfd-f984e6b1dd4a",
   "metadata": {},
   "source": [
    "### *2. Run a default simulation*\n"
   ]
  },
  {
   "cell_type": "code",
   "execution_count": null,
   "id": "5f9dcb90-937e-49ae-a29c-0920feae7ccf",
   "metadata": {},
   "outputs": [],
   "source": [
    "# Define the function to Load in the SC file - function to be called later\n",
    "def get_connectivity(scaling_factor,sc_path):\n",
    "        SC = np.loadtxt(sc_path)\n",
    "        SC = SC / scaling_factor\n",
    "        conn = connectivity.Connectivity(\n",
    "                weights = SC,\n",
    "                tract_lengths=np.ones_like(SC),\n",
    "                centres = np.zeros(np.shape(SC)[0]),\n",
    "                speed = np.r_[np.Inf]\n",
    "        )\n",
    "        conn.compute_region_labels()\n",
    "\n",
    "        return conn\n",
    "    \n",
    "# Declare the subject directory\n",
    "sub_dir='../Session_3-Simulation/sub-0001/' #MODIFY\n",
    "\n",
    "\n",
    "scaling_factor=1     #scaling the SC matrix - strength of connections not changed when 1 - no normalization\n",
    "sc_path = os.path.join(sub_dir,'weights.txt')\n",
    "\n",
    "\n",
    "# Specify the model and model initial parameter values\n",
    "G=1.993\n",
    "nsigma=0.04\n",
    "dt=0.005    #integration step size\n",
    "\n",
    "sim_len=6e3 #length of simulation - units depend on setup\n",
    "\n",
    "# Set up a simulation object\n",
    "sim = simulator.Simulator(\n",
    "    connectivity = get_connectivity(scaling_factor,sc_path),\n",
    "    model = models.MontbrioPazoRoxin(\n",
    "        eta   = np.r_[-4.6],\n",
    "        J     = np.r_[14.5],\n",
    "        Delta = np.r_[0.7],\n",
    "        tau   = np.r_[1.],\n",
    "    ),\n",
    "    coupling = coupling.Linear(a=np.r_[G]),\n",
    "    integrator = integrators.HeunStochastic(\n",
    "        dt = dt,\n",
    "        noise = noise.Additive(nsig=np.r_[nsigma, nsigma*2])\n",
    "    ),\n",
    "    monitors = [monitors.TemporalAverage(period=0.1)]\n",
    ").configure()\n",
    "\n",
    "\n",
    "\n",
    "# Run the simulation\n",
    "runner = NbMPRBackend()\n",
    "\n",
    "start_time = time.time() #mark start time \n",
    "\n",
    "(tavg_t, tavg_d), = runner.run_sim(sim, simulation_length=sim_len)   #run the sim\n",
    "\n",
    "end_time = time.time() #mark end time\n",
    "elapsed_time = end_time - start_time\n",
    "print(f\"Simulation took: {elapsed_time} seconds\")\n",
    "\n",
    "tavg_t *= 10 #convert simulation timepoints to ms\n"
   ]
  },
  {
   "cell_type": "markdown",
   "id": "e4a6d170-8b52-470b-bc6b-99aedc83c85a",
   "metadata": {},
   "source": [
    "Visualizing the simulated data."
   ]
  },
  {
   "cell_type": "code",
   "execution_count": null,
   "id": "971f3996-0513-4a20-96be-7e169cba7191",
   "metadata": {
    "tags": []
   },
   "outputs": [],
   "source": [
    "#Plot the simulated data - firing rate\n",
    "ax = utils.plot_ts_stack(tavg_d[:, 0, :10, 0], x=tavg_t[:]/1000, width=20)\n",
    "ax.set(xlabel='time [s]');"
   ]
  },
  {
   "cell_type": "markdown",
   "id": "da50e447-4940-4eae-b8f3-e377ad573cc7",
   "metadata": {},
   "source": [
    "### *3. Run the default simulation again*\n"
   ]
  },
  {
   "cell_type": "code",
   "execution_count": null,
   "id": "5acb50c7-a5b7-47df-b8b2-07ef47eb2721",
   "metadata": {},
   "outputs": [],
   "source": [
    "# Define the function to Load in the SC file - function to be called later\n",
    "def get_connectivity(scaling_factor,sc_path):\n",
    "        SC = np.loadtxt(sc_path)\n",
    "        SC = SC / scaling_factor\n",
    "        conn = connectivity.Connectivity(\n",
    "                weights = SC,\n",
    "                tract_lengths=np.ones_like(SC),\n",
    "                centres = np.zeros(np.shape(SC)[0]),\n",
    "                speed = np.r_[np.Inf]\n",
    "        )\n",
    "        conn.compute_region_labels()\n",
    "\n",
    "        return conn\n",
    "    \n",
    "# Declare the subject directory\n",
    "sub_dir='../Session_3-Simulation/sub-0001/' #MODIFY\n",
    "\n",
    "\n",
    "scaling_factor=1     #scaling the SC matrix - strength of connections not changed when 1 - no normalization\n",
    "sc_path = os.path.join(sub_dir,'weights.txt')\n",
    "\n",
    "\n",
    "# Specify the model and model initial parameter values\n",
    "G=1.993\n",
    "nsigma=0.04\n",
    "dt=0.005    #integration step size\n",
    "\n",
    "sim_len=6e3 #length of simulation - units depend on setup\n",
    "\n",
    "# Set up a simulation object\n",
    "sim = simulator.Simulator(\n",
    "    connectivity = get_connectivity(scaling_factor,sc_path),\n",
    "    model = models.MontbrioPazoRoxin(\n",
    "        eta   = np.r_[-4.6],\n",
    "        J     = np.r_[14.5],\n",
    "        Delta = np.r_[0.7],\n",
    "        tau   = np.r_[1.],\n",
    "    ),\n",
    "    coupling = coupling.Linear(a=np.r_[G]),\n",
    "    integrator = integrators.HeunStochastic(\n",
    "        dt = dt,\n",
    "        noise = noise.Additive(nsig=np.r_[nsigma, nsigma*2])\n",
    "    ),\n",
    "    monitors = [monitors.TemporalAverage(period=0.1)]\n",
    ").configure()\n",
    "\n",
    "\n",
    "\n",
    "# Run the simulation\n",
    "runner = NbMPRBackend()\n",
    "\n",
    "start_time = time.time() #mark start time \n",
    "\n",
    "(tavg_t, tavg_d), = runner.run_sim(sim, simulation_length=sim_len)   #run the sim\n",
    "\n",
    "end_time = time.time() #mark end time\n",
    "elapsed_time = end_time - start_time\n",
    "print(f\"Simulation took: {elapsed_time} seconds\")\n",
    "\n",
    "tavg_t *= 10 #convert simulation timepoints to ms\n"
   ]
  },
  {
   "cell_type": "markdown",
   "id": "51aa6836-c371-4c20-b5d1-331cdab1c61c",
   "metadata": {},
   "source": [
    "Visualizing the simulated data (again)."
   ]
  },
  {
   "cell_type": "code",
   "execution_count": null,
   "id": "2b01318e-bded-498a-9943-d168005aa720",
   "metadata": {
    "tags": []
   },
   "outputs": [],
   "source": [
    "#Plot the simulated data - firing rate\n",
    "ax = utils.plot_ts_stack(tavg_d[:, 0, :10, 0], x=tavg_t[:]/1000, width=20)\n",
    "ax.set(xlabel='time [s]');"
   ]
  },
  {
   "cell_type": "markdown",
   "id": "34f42d8e-d2ef-4372-8927-324a0371013e",
   "metadata": {},
   "source": [
    "### *4. Running the same simulation with a different noise seed*\n"
   ]
  },
  {
   "cell_type": "code",
   "execution_count": null,
   "id": "daabc8b8-1f0d-42c6-a46c-b193bc802183",
   "metadata": {},
   "outputs": [],
   "source": [
    "# Define the function to Load in the SC file - function to be called later\n",
    "def get_connectivity(scaling_factor,sc_path):\n",
    "        SC = np.loadtxt(sc_path)\n",
    "        SC = SC / scaling_factor\n",
    "        conn = connectivity.Connectivity(\n",
    "                weights = SC,\n",
    "                tract_lengths=np.ones_like(SC),\n",
    "                centres = np.zeros(np.shape(SC)[0]),\n",
    "                speed = np.r_[np.Inf]\n",
    "        )\n",
    "        conn.compute_region_labels()\n",
    "\n",
    "        return conn\n",
    "    \n",
    "# Declare the subject directory\n",
    "sub_dir='../Session_3-Simulation/sub-0001/' #MODIFY\n",
    "\n",
    "\n",
    "scaling_factor=1     #scaling the SC matrix - strength of connections not changed when 1 - no normalization\n",
    "sc_path = os.path.join(sub_dir,'weights.txt')\n",
    "\n",
    "\n",
    "# Specify the model and model initial parameter values\n",
    "G=1.993\n",
    "nsigma=0.04\n",
    "dt=0.005    #integration step size\n",
    "\n",
    "sim_len=6e3 #length of simulation - units depend on setup\n",
    "\n",
    "# Set up a simulation object\n",
    "sim = simulator.Simulator(\n",
    "    connectivity = get_connectivity(scaling_factor,sc_path),\n",
    "    model = models.MontbrioPazoRoxin(\n",
    "        eta   = np.r_[-4.6],\n",
    "        J     = np.r_[14.5],\n",
    "        Delta = np.r_[0.7],\n",
    "        tau   = np.r_[1.],\n",
    "    ),\n",
    "    coupling = coupling.Linear(a=np.r_[G]),\n",
    "    integrator = integrators.HeunStochastic(\n",
    "        dt = dt,\n",
    "        noise = noise.Additive(nsig=np.r_[nsigma, nsigma*2], noise_seed=20)\n",
    "    ),\n",
    "    monitors = [monitors.TemporalAverage(period=0.1)]\n",
    ").configure()\n",
    "\n",
    "\n",
    "\n",
    "# Run the simulation\n",
    "runner = NbMPRBackend()\n",
    "\n",
    "start_time = time.time() #mark start time \n",
    "\n",
    "(tavg_t, tavg_d), = runner.run_sim(sim, simulation_length=sim_len)   #run the sim\n",
    "\n",
    "end_time = time.time() #mark end time\n",
    "elapsed_time = end_time - start_time\n",
    "print(f\"Simulation took: {elapsed_time} seconds\")\n",
    "\n",
    "tavg_t *= 10 #convert simulation timepoints to ms\n"
   ]
  },
  {
   "cell_type": "markdown",
   "id": "fce66c49-816b-4a60-93cf-5431a0249f58",
   "metadata": {},
   "source": [
    "Visualizing the simulated data (again)."
   ]
  },
  {
   "cell_type": "code",
   "execution_count": null,
   "id": "8de326c6-4d21-4ee6-992f-386ba9603c8a",
   "metadata": {
    "tags": []
   },
   "outputs": [],
   "source": [
    "#Plot the simulated data - firing rate\n",
    "ax = utils.plot_ts_stack(tavg_d[:, 0, :10, 0], x=tavg_t[:]/1000, width=20)\n",
    "ax.set(xlabel='time [s]');"
   ]
  }
 ],
 "metadata": {
  "kernelspec": {
   "display_name": "PythonTVB",
   "language": "python",
   "name": "pythontvb"
  },
  "language_info": {
   "codemirror_mode": {
    "name": "ipython",
    "version": 3
   },
   "file_extension": ".py",
   "mimetype": "text/x-python",
   "name": "python",
   "nbconvert_exporter": "python",
   "pygments_lexer": "ipython3",
   "version": "3.7.7"
  }
 },
 "nbformat": 4,
 "nbformat_minor": 5
}
